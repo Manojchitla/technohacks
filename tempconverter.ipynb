{
 "cells": [
  {
   "cell_type": "code",
   "execution_count": 1,
   "id": "7da3f118",
   "metadata": {},
   "outputs": [
    {
     "name": "stdout",
     "output_type": "stream",
     "text": [
      "Enter the temperature you want to convert (e.g., 32F, 100C): 32F\n",
      "32.0 degrees Fahrenheit is equal to 0.0 degrees Celsius\n",
      "Do you want to convert another temperature? (yes/no): yes\n",
      "Enter the temperature you want to convert (e.g., 32F, 100C): 100C\n",
      "100.0 degrees Celsius is equal to 212.0 degrees Fahrenheit\n",
      "Do you want to convert another temperature? (yes/no): no\n"
     ]
    }
   ],
   "source": [
    "def convert_temp(temp, unit):\n",
    "  \"\"\"\n",
    "  Converts a temperature from Fahrenheit to Celsius or vice versa.\n",
    "\n",
    "  Args:\n",
    "    temp: The temperature to convert.\n",
    "    unit: The unit of the temperature (\"F\" for Fahrenheit, \"C\" for Celsius).\n",
    "\n",
    "  Returns:\n",
    "    The converted temperature in the opposite unit.\n",
    "  \"\"\"\n",
    "\n",
    "  if unit == \"F\":\n",
    "    return (temp - 32) * 5/9\n",
    "  elif unit == \"C\":\n",
    "    return temp * 9/5 + 32\n",
    "  else:\n",
    "    raise ValueError(\"Invalid unit: {}\".format(unit))\n",
    "\n",
    "while True:\n",
    "  try:\n",
    "    temp_str = input(\"Enter the temperature you want to convert (e.g., 32F, 100C): \")\n",
    "    temp = float(temp_str[:-1])  # Extract the numerical part of the temperature\n",
    "    unit = temp_str[-1].upper()  # Extract the unit (last character)\n",
    "    converted_temp = convert_temp(temp, unit)\n",
    "\n",
    "    if unit == \"F\":\n",
    "      print(f\"{temp} degrees Fahrenheit is equal to {converted_temp:.1f} degrees Celsius\")\n",
    "    else:\n",
    "      print(f\"{temp} degrees Celsius is equal to {converted_temp:.1f} degrees Fahrenheit\")\n",
    "\n",
    "    repeat = input(\"Do you want to convert another temperature? (yes/no): \")\n",
    "    if repeat.lower() != \"yes\":\n",
    "      break\n",
    "  except ValueError:\n",
    "    print(\"Invalid input. Please enter a valid temperature with a unit (e.g., 32F, 100C).\")"
   ]
  },
  {
   "cell_type": "code",
   "execution_count": null,
   "id": "303ab45b",
   "metadata": {},
   "outputs": [],
   "source": []
  }
 ],
 "metadata": {
  "kernelspec": {
   "display_name": "Python 3 (ipykernel)",
   "language": "python",
   "name": "python3"
  },
  "language_info": {
   "codemirror_mode": {
    "name": "ipython",
    "version": 3
   },
   "file_extension": ".py",
   "mimetype": "text/x-python",
   "name": "python",
   "nbconvert_exporter": "python",
   "pygments_lexer": "ipython3",
   "version": "3.11.5"
  }
 },
 "nbformat": 4,
 "nbformat_minor": 5
}
