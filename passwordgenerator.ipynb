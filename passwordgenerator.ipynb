{
 "cells": [
  {
   "cell_type": "code",
   "execution_count": 1,
   "id": "4aa2aba2",
   "metadata": {},
   "outputs": [
    {
     "name": "stdout",
     "output_type": "stream",
     "text": [
      "Random password is: wl-MN#XI\n",
      "Enter the number of characters in your password8\n",
      "Enter the number of numbers in your password3\n",
      "Enter the number of symbols in your password1\n",
      "The randomly generated password is:  i1j2*s4obgVx\n"
     ]
    }
   ],
   "source": [
    "import random\n",
    "import string\n",
    "chars=string.ascii_letters+string.digits+string.punctuation\n",
    "password=''.join(random.choice(chars)for i in range(8))\n",
    "print(\"Random password is:\",password)\n",
    "\n",
    "\n",
    "\n",
    "def password_gen(char_length,num_length,symbol_length):\n",
    "  c=\"abcdefghijklmnopqrstuvwxyzABCDEFGHIJKLMNOPQRSTUVWXYZ\"\n",
    "  nums=\"0123456789\"\n",
    "  symbols=\"!@#$%^&*()\"\n",
    "\n",
    "  selectedchars=random.sample(c,char_length)\n",
    "  selectednums=random.sample(nums,num_length)\n",
    "  selectedsymbols=random.sample(symbols,symbol_length)\n",
    "\n",
    "  password_list=selectedchars+selectednums+selectedsymbols\n",
    "\n",
    "  random.shuffle(password_list)\n",
    "  password_str=''.join(password_list)\n",
    "  return password_str\n",
    "char_length=int(input(\"Enter the number of characters in your password\"))\n",
    "num_length=int(input(\"Enter the number of numbers in your password\"))\n",
    "symbol_length=int(input(\"Enter the number of symbols in your password\"))\n",
    "password=password_gen(char_length,num_length,symbol_length)\n",
    "print(\"The randomly generated password is: \",password)\n"
   ]
  },
  {
   "cell_type": "code",
   "execution_count": null,
   "id": "0343f304",
   "metadata": {},
   "outputs": [],
   "source": []
  }
 ],
 "metadata": {
  "kernelspec": {
   "display_name": "Python 3 (ipykernel)",
   "language": "python",
   "name": "python3"
  },
  "language_info": {
   "codemirror_mode": {
    "name": "ipython",
    "version": 3
   },
   "file_extension": ".py",
   "mimetype": "text/x-python",
   "name": "python",
   "nbconvert_exporter": "python",
   "pygments_lexer": "ipython3",
   "version": "3.11.5"
  }
 },
 "nbformat": 4,
 "nbformat_minor": 5
}
